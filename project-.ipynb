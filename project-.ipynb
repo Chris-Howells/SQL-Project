{
 "cells": [
  {
   "cell_type": "code",
   "execution_count": 123,
   "metadata": {
    "ExecuteTime": {
     "end_time": "2020-11-29T10:05:06.780104Z",
     "start_time": "2020-11-29T10:05:06.777620Z"
    }
   },
   "outputs": [],
   "source": [
    "import datetime\n",
    "import re\n",
    "\n",
    "import numpy as np\n",
    "import pandas as pd\n",
    "from pandas import json_normalize\n",
    "\n",
    "import requests"
   ]
  },
  {
   "cell_type": "code",
   "execution_count": 2,
   "metadata": {
    "ExecuteTime": {
     "end_time": "2020-11-29T09:06:47.896639Z",
     "start_time": "2020-11-29T09:06:47.894314Z"
    }
   },
   "outputs": [],
   "source": [
    "school_dic = {\n",
    "    \"ironhack\" : 10828,\n",
    "    \"app-academy\" : 10525,\n",
    "    \"springboard\" : 11035,\n",
    "    \"le-wagon\" : 10868,\n",
    "    \"general-assembly\" : 10761,\n",
    "    \"hackwagon-academy\" : 10792,\n",
    "    \"udacity\" : 11118,\n",
    "    \"thinkful\" : 11098,\n",
    "    \"nyc-data-science-academy\" : 10925\n",
    "}"
   ]
  },
  {
   "cell_type": "code",
   "execution_count": 3,
   "metadata": {
    "ExecuteTime": {
     "end_time": "2020-11-29T09:08:22.471694Z",
     "start_time": "2020-11-29T09:08:22.467979Z"
    }
   },
   "outputs": [],
   "source": [
    "# Regexes used for removing tags and period\n",
    "\n",
    "TAG_RE = re.compile(r'<[^>]+>')\n",
    "\n",
    "YEAR_RE = re.compile(r'\\..')"
   ]
  },
  {
   "cell_type": "code",
   "execution_count": 4,
   "metadata": {
    "ExecuteTime": {
     "end_time": "2020-11-29T09:08:37.585273Z",
     "start_time": "2020-11-29T09:08:37.581674Z"
    }
   },
   "outputs": [],
   "source": [
    "def remove_tags(x):\n",
    "    \"Removes tags\"\n",
    "\n",
    "    return TAG_RE.sub('',x)"
   ]
  },
  {
   "cell_type": "code",
   "execution_count": 6,
   "metadata": {
    "ExecuteTime": {
     "end_time": "2020-11-29T09:10:05.029377Z",
     "start_time": "2020-11-29T09:10:05.019856Z"
    }
   },
   "outputs": [],
   "source": [
    "def get_comments_school(school):\n",
    "    \"\"\"\n",
    "    Send API calls to retrieve data and returns response as JSON file.\n",
    "    \"\"\"\n",
    "    \n",
    "    # Defines url to make api call to data -> dynamic with school if you want to scrape competition    \n",
    "    url = (\"https://www.switchup.org/chimera/v1/school-review-list?mainTemplate=school-review-list&path=%2Fbootcamps%2F\"\n",
    "           + school\n",
    "           + \"&isDataTarget=false&page=3&perPage=10000&simpleHtml=true&truncationLength=250\")\n",
    "    \n",
    "    # Makes get request and converts answer to json\n",
    "    data = requests.get(url).json()\n",
    "    \n",
    "    return data"
   ]
  },
  {
   "cell_type": "code",
   "execution_count": 5,
   "metadata": {
    "ExecuteTime": {
     "end_time": "2020-11-29T09:09:54.253611Z",
     "start_time": "2020-11-29T09:09:54.250769Z"
    }
   },
   "outputs": [],
   "source": [
    "def comments_to_dataframe(json_file, school):\n",
    "    \n",
    "    # Convert API response to Pandas DataFrame\n",
    "    reviews = pd.DataFrame(json_file[\"content\"][\"reviews\"])\n",
    "    \n",
    "    # Remove tags\n",
    "    reviews[\"review_body\"] = reviews[\"body\"].apply(remove_tags)\n",
    "    \n",
    "    # Add new column of school names\n",
    "    reviews[\"school\"] = school\n",
    "    \n",
    "    return reviews"
   ]
  },
  {
   "cell_type": "markdown",
   "metadata": {},
   "source": [
    "### Retrieve data and convert it to Pandas DataFrame"
   ]
  },
  {
   "cell_type": "code",
   "execution_count": 7,
   "metadata": {
    "ExecuteTime": {
     "end_time": "2020-11-29T09:11:50.898020Z",
     "start_time": "2020-11-29T09:11:04.845157Z"
    }
   },
   "outputs": [],
   "source": [
    "comments = [comments_to_dataframe(get_comments_school(school), school) for school in school_dic.keys()]\n",
    "\n",
    "comments = pd.concat(comments)"
   ]
  },
  {
   "cell_type": "code",
   "execution_count": 10,
   "metadata": {
    "ExecuteTime": {
     "end_time": "2020-11-29T09:16:24.226328Z",
     "start_time": "2020-11-29T09:16:24.221218Z"
    }
   },
   "outputs": [],
   "source": [
    "def get_school_info(school, school_id):\n",
    "    url = (\"https://www.switchup.org/chimera/v1/bootcamp-data?mainTemplate=bootcamp-data%2Fdescription&path=%2Fbootcamps%2F\"\n",
    "           + str(school) + \"&isDataTarget=false&bootcampId=\"\n",
    "           + str(school_id)\n",
    "           + \"&logoTag=logo&truncationLength=250&readMoreOmission=...&readMoreText=Read%20More&readLessText=Read%20Less\")\n",
    "\n",
    "    data = requests.get(url).json()\n",
    "\n",
    "    return data"
   ]
  },
  {
   "cell_type": "code",
   "execution_count": 11,
   "metadata": {
    "ExecuteTime": {
     "end_time": "2020-11-29T09:16:24.588176Z",
     "start_time": "2020-11-29T09:16:24.580380Z"
    }
   },
   "outputs": [],
   "source": [
    "def info_to_dataframe(data, school, school_id):\n",
    "    \n",
    "    # Convert API response to Pandas DataFrame\n",
    "    courses_df = pd.DataFrame(data[\"content\"][\"courses\"], columns= [\"courses\"])\n",
    "    \n",
    "    # Location DataFrame\n",
    "    locations_df = json_normalize(data[\"content\"][\"locations\"])\n",
    "    \n",
    "    badges_df = pd.DataFrame(data[\"content\"][\"meritBadges\"])\n",
    "    \n",
    "    website = data[\"content\"][\"webaddr\"]\n",
    "    description = data[\"content\"][\"description\"]\n",
    "    logoUrl = data[\"content\"][\"logoUrl\"]\n",
    "    \n",
    "    school_df = pd.DataFrame([website, description, logoUrl]).T\n",
    "    \n",
    "    school_df.columns =  [\"website\",\"description\",\"LogoUrl\"]\n",
    "    \n",
    "    # Add School name column to each DataFrame\n",
    "    locations_df[\"school\"] = school\n",
    "    courses_df[\"school\"] = school\n",
    "    badges_df[\"school\"] = school\n",
    "    school_df[\"school\"] = school\n",
    "    \n",
    "    # Add School Id column\n",
    "    locations_df[\"school_id\"] = school_id\n",
    "    courses_df[\"school_id\"] = school_id\n",
    "    badges_df[\"school_id\"] = school_id\n",
    "    school_df[\"school_id\"] = school_id\n",
    "    \n",
    "    return locations_df, courses_df, badges_df, school_df"
   ]
  },
  {
   "cell_type": "markdown",
   "metadata": {},
   "source": [
    "### Extract school infos"
   ]
  },
  {
   "cell_type": "code",
   "execution_count": 12,
   "metadata": {
    "ExecuteTime": {
     "end_time": "2020-11-29T09:16:32.652292Z",
     "start_time": "2020-11-29T09:16:25.866869Z"
    }
   },
   "outputs": [],
   "source": [
    "school_infos = [info_to_dataframe(get_school_info(school, school_id), school, school_id) for school, school_id in school_dic.items()]"
   ]
  },
  {
   "cell_type": "markdown",
   "metadata": {},
   "source": [
    "### Convert extracted info in DataFrames"
   ]
  },
  {
   "cell_type": "code",
   "execution_count": 15,
   "metadata": {
    "ExecuteTime": {
     "end_time": "2020-11-29T09:18:21.178799Z",
     "start_time": "2020-11-29T09:18:21.153634Z"
    }
   },
   "outputs": [],
   "source": [
    "locations = pd.concat([school_infos[i][0] for i in range(8)])\n",
    "\n",
    "courses = pd.concat([school_infos[i][1] for i in range(8)])\n",
    "\n",
    "badges = pd.concat([school_infos[i][2] for i in range(8)])\n",
    "\n",
    "schools = pd.concat([school_infos[i][3] for i in range(8)])"
   ]
  },
  {
   "cell_type": "code",
   "execution_count": null,
   "metadata": {},
   "outputs": [],
   "source": []
  },
  {
   "cell_type": "code",
   "execution_count": 16,
   "metadata": {
    "ExecuteTime": {
     "end_time": "2020-11-29T09:18:51.119527Z",
     "start_time": "2020-11-29T09:18:51.115507Z"
    }
   },
   "outputs": [],
   "source": [
    "def correct_year(x):\n",
    "    \n",
    "    return YEAR_RE.sub('',x)"
   ]
  },
  {
   "cell_type": "code",
   "execution_count": 17,
   "metadata": {
    "ExecuteTime": {
     "end_time": "2020-11-29T09:20:35.394432Z",
     "start_time": "2020-11-29T09:20:35.389537Z"
    }
   },
   "outputs": [],
   "source": [
    "# Cleaning extracted comments\n",
    "\n",
    "def clean_comments(comments):\n",
    "\n",
    "    # Change column types\n",
    "    convert_dict = {\"overallScore\": float,\n",
    "                    \"curriculum\": float,\n",
    "                    \"jobSupport\": float,\n",
    "                    \"id\": object,\n",
    "                    \"graduatingYear\": str}\n",
    "    \n",
    "    comments = comments.astype(convert_dict)  \n",
    "    \n",
    "    comments['queryDate'] = pd.to_datetime(comments['queryDate'])\n",
    "\n",
    "    # Apply regex to graduating year\n",
    "    comments[\"graduatingYear\"] = comments[\"graduatingYear\"].apply(correct_year)\n",
    "    \n",
    "    # Dropping unecessary columns\n",
    "    drop_cols = [\"user\", \"body\", \"createdAt\", \"comments\", \"hostProgramName\"]   \n",
    "    comments = comments.drop(drop_cols, axis=1)\n",
    "\n",
    "    # Renaming columns\n",
    "    comments.rename(columns={\"review_body\": \"Review\"}, inplace=True)\n",
    "\n",
    "    # Substituting nulls - fill missing values\n",
    "    comments = comments.fillna(\"not available\")\n",
    "    comments[\"jobTitle\"]=comments[\"jobTitle\"].where(comments[\"jobTitle\"] != \"\", \"not available\")\n",
    "    \n",
    "    return comments"
   ]
  },
  {
   "cell_type": "code",
   "execution_count": 18,
   "metadata": {
    "ExecuteTime": {
     "end_time": "2020-11-29T09:21:11.024402Z",
     "start_time": "2020-11-29T09:21:11.020984Z"
    }
   },
   "outputs": [],
   "source": [
    "# Cleaning locations DataFrame\n",
    "\n",
    "def clean_locations(locations):\n",
    "    \n",
    "    # Change column types\n",
    "    convert_dict = {\"id\": object,\n",
    "                    \"city.id\": object,\n",
    "                    \"country.id\": object,\n",
    "                    \"state.id\": object}\n",
    "    \n",
    "    locations = locations.astype(convert_dict)\n",
    "    \n",
    "    # Fill null values\n",
    "    locations = locations.fillna(\"not available\")\n",
    "    \n",
    "    return locations"
   ]
  },
  {
   "cell_type": "code",
   "execution_count": 19,
   "metadata": {
    "ExecuteTime": {
     "end_time": "2020-11-29T09:21:46.776112Z",
     "start_time": "2020-11-29T09:21:46.772601Z"
    }
   },
   "outputs": [],
   "source": [
    "# Cleaning badges\n",
    "\n",
    "def clean_badge_school(badges):\n",
    "    \n",
    "    badges[\"description\"] = badges[\"description\"].apply(remove_tags)\n",
    "    \n",
    "    return badges"
   ]
  },
  {
   "cell_type": "markdown",
   "metadata": {},
   "source": [
    "### Apply cleaning functions"
   ]
  },
  {
   "cell_type": "code",
   "execution_count": 22,
   "metadata": {
    "ExecuteTime": {
     "end_time": "2020-11-29T09:23:03.582249Z",
     "start_time": "2020-11-29T09:23:03.524287Z"
    }
   },
   "outputs": [],
   "source": [
    "# Getting new versions goinggg\n",
    "\n",
    "comments = clean_comments(comments).reset_index(drop=True)\n",
    "\n",
    "locations = clean_locations(locations).reset_index(drop=True)\n",
    "\n",
    "badges = clean_badge_school(badges).reset_index(drop=True)\n",
    "\n",
    "schools = clean_badge_school(schools).reset_index(drop=True)"
   ]
  },
  {
   "cell_type": "markdown",
   "metadata": {},
   "source": [
    "## Print head of each DataFrame"
   ]
  },
  {
   "cell_type": "code",
   "execution_count": 23,
   "metadata": {
    "ExecuteTime": {
     "end_time": "2020-11-29T09:23:15.812715Z",
     "start_time": "2020-11-29T09:23:15.788398Z"
    }
   },
   "outputs": [
    {
     "data": {
      "text/html": [
       "<div>\n",
       "<style scoped>\n",
       "    .dataframe tbody tr th:only-of-type {\n",
       "        vertical-align: middle;\n",
       "    }\n",
       "\n",
       "    .dataframe tbody tr th {\n",
       "        vertical-align: top;\n",
       "    }\n",
       "\n",
       "    .dataframe thead th {\n",
       "        text-align: right;\n",
       "    }\n",
       "</style>\n",
       "<table border=\"1\" class=\"dataframe\">\n",
       "  <thead>\n",
       "    <tr style=\"text-align: right;\">\n",
       "      <th></th>\n",
       "      <th>id</th>\n",
       "      <th>description</th>\n",
       "      <th>country.id</th>\n",
       "      <th>country.name</th>\n",
       "      <th>country.abbrev</th>\n",
       "      <th>city.id</th>\n",
       "      <th>city.name</th>\n",
       "      <th>city.keyword</th>\n",
       "      <th>state.id</th>\n",
       "      <th>state.name</th>\n",
       "      <th>state.abbrev</th>\n",
       "      <th>state.keyword</th>\n",
       "      <th>school</th>\n",
       "      <th>school_id</th>\n",
       "    </tr>\n",
       "  </thead>\n",
       "  <tbody>\n",
       "    <tr>\n",
       "      <th>0</th>\n",
       "      <td>15901</td>\n",
       "      <td>Berlin, Germany</td>\n",
       "      <td>57</td>\n",
       "      <td>Germany</td>\n",
       "      <td>DE</td>\n",
       "      <td>31156</td>\n",
       "      <td>Berlin</td>\n",
       "      <td>berlin</td>\n",
       "      <td>not available</td>\n",
       "      <td>not available</td>\n",
       "      <td>not available</td>\n",
       "      <td>not available</td>\n",
       "      <td>ironhack</td>\n",
       "      <td>10828</td>\n",
       "    </tr>\n",
       "    <tr>\n",
       "      <th>1</th>\n",
       "      <td>16022</td>\n",
       "      <td>Mexico City, Mexico</td>\n",
       "      <td>29</td>\n",
       "      <td>Mexico</td>\n",
       "      <td>MX</td>\n",
       "      <td>31175</td>\n",
       "      <td>Mexico City</td>\n",
       "      <td>mexico-city</td>\n",
       "      <td>not available</td>\n",
       "      <td>not available</td>\n",
       "      <td>not available</td>\n",
       "      <td>not available</td>\n",
       "      <td>ironhack</td>\n",
       "      <td>10828</td>\n",
       "    </tr>\n",
       "    <tr>\n",
       "      <th>2</th>\n",
       "      <td>16086</td>\n",
       "      <td>Amsterdam, Netherlands</td>\n",
       "      <td>59</td>\n",
       "      <td>Netherlands</td>\n",
       "      <td>NL</td>\n",
       "      <td>31168</td>\n",
       "      <td>Amsterdam</td>\n",
       "      <td>amsterdam</td>\n",
       "      <td>not available</td>\n",
       "      <td>not available</td>\n",
       "      <td>not available</td>\n",
       "      <td>not available</td>\n",
       "      <td>ironhack</td>\n",
       "      <td>10828</td>\n",
       "    </tr>\n",
       "    <tr>\n",
       "      <th>3</th>\n",
       "      <td>16088</td>\n",
       "      <td>Sao Paulo, Brazil</td>\n",
       "      <td>42</td>\n",
       "      <td>Brazil</td>\n",
       "      <td>BR</td>\n",
       "      <td>31121</td>\n",
       "      <td>Sao Paulo</td>\n",
       "      <td>sao-paulo</td>\n",
       "      <td>not available</td>\n",
       "      <td>not available</td>\n",
       "      <td>not available</td>\n",
       "      <td>not available</td>\n",
       "      <td>ironhack</td>\n",
       "      <td>10828</td>\n",
       "    </tr>\n",
       "    <tr>\n",
       "      <th>4</th>\n",
       "      <td>16109</td>\n",
       "      <td>Paris, France</td>\n",
       "      <td>38</td>\n",
       "      <td>France</td>\n",
       "      <td>FR</td>\n",
       "      <td>31136</td>\n",
       "      <td>Paris</td>\n",
       "      <td>paris</td>\n",
       "      <td>not available</td>\n",
       "      <td>not available</td>\n",
       "      <td>not available</td>\n",
       "      <td>not available</td>\n",
       "      <td>ironhack</td>\n",
       "      <td>10828</td>\n",
       "    </tr>\n",
       "  </tbody>\n",
       "</table>\n",
       "</div>"
      ],
      "text/plain": [
       "      id             description country.id country.name country.abbrev  \\\n",
       "0  15901         Berlin, Germany         57      Germany             DE   \n",
       "1  16022     Mexico City, Mexico         29       Mexico             MX   \n",
       "2  16086  Amsterdam, Netherlands         59  Netherlands             NL   \n",
       "3  16088       Sao Paulo, Brazil         42       Brazil             BR   \n",
       "4  16109           Paris, France         38       France             FR   \n",
       "\n",
       "  city.id    city.name city.keyword       state.id     state.name  \\\n",
       "0   31156       Berlin       berlin  not available  not available   \n",
       "1   31175  Mexico City  mexico-city  not available  not available   \n",
       "2   31168    Amsterdam    amsterdam  not available  not available   \n",
       "3   31121    Sao Paulo    sao-paulo  not available  not available   \n",
       "4   31136        Paris        paris  not available  not available   \n",
       "\n",
       "    state.abbrev  state.keyword    school  school_id  \n",
       "0  not available  not available  ironhack      10828  \n",
       "1  not available  not available  ironhack      10828  \n",
       "2  not available  not available  ironhack      10828  \n",
       "3  not available  not available  ironhack      10828  \n",
       "4  not available  not available  ironhack      10828  "
      ]
     },
     "execution_count": 23,
     "metadata": {},
     "output_type": "execute_result"
    }
   ],
   "source": [
    "locations.head()"
   ]
  },
  {
   "cell_type": "code",
   "execution_count": 24,
   "metadata": {
    "ExecuteTime": {
     "end_time": "2020-11-29T09:23:16.260985Z",
     "start_time": "2020-11-29T09:23:16.235511Z"
    }
   },
   "outputs": [
    {
     "data": {
      "text/html": [
       "<div>\n",
       "<style scoped>\n",
       "    .dataframe tbody tr th:only-of-type {\n",
       "        vertical-align: middle;\n",
       "    }\n",
       "\n",
       "    .dataframe tbody tr th {\n",
       "        vertical-align: top;\n",
       "    }\n",
       "\n",
       "    .dataframe thead th {\n",
       "        text-align: right;\n",
       "    }\n",
       "</style>\n",
       "<table border=\"1\" class=\"dataframe\">\n",
       "  <thead>\n",
       "    <tr style=\"text-align: right;\">\n",
       "      <th></th>\n",
       "      <th>id</th>\n",
       "      <th>name</th>\n",
       "      <th>anonymous</th>\n",
       "      <th>graduatingYear</th>\n",
       "      <th>isAlumni</th>\n",
       "      <th>jobTitle</th>\n",
       "      <th>tagline</th>\n",
       "      <th>queryDate</th>\n",
       "      <th>program</th>\n",
       "      <th>overallScore</th>\n",
       "      <th>overall</th>\n",
       "      <th>curriculum</th>\n",
       "      <th>jobSupport</th>\n",
       "      <th>Review</th>\n",
       "      <th>school</th>\n",
       "    </tr>\n",
       "  </thead>\n",
       "  <tbody>\n",
       "    <tr>\n",
       "      <th>0</th>\n",
       "      <td>270846</td>\n",
       "      <td>Anonymous</td>\n",
       "      <td>True</td>\n",
       "      <td>2020</td>\n",
       "      <td>False</td>\n",
       "      <td>unemployed</td>\n",
       "      <td>Disappointed</td>\n",
       "      <td>2020-11-25</td>\n",
       "      <td>Web Development Bootcamp</td>\n",
       "      <td>2.7</td>\n",
       "      <td>3.0</td>\n",
       "      <td>4</td>\n",
       "      <td>1</td>\n",
       "      <td>I participated to the remote Web Dev bootcamp....</td>\n",
       "      <td>ironhack</td>\n",
       "    </tr>\n",
       "    <tr>\n",
       "      <th>1</th>\n",
       "      <td>270766</td>\n",
       "      <td>salim ameur</td>\n",
       "      <td>False</td>\n",
       "      <td>2020</td>\n",
       "      <td>False</td>\n",
       "      <td>frontend developer</td>\n",
       "      <td>\"An amazing experience !\"</td>\n",
       "      <td>2020-11-23</td>\n",
       "      <td>Web Development Bootcamp</td>\n",
       "      <td>5</td>\n",
       "      <td>5.0</td>\n",
       "      <td>5</td>\n",
       "      <td>5</td>\n",
       "      <td>IRONHACK will be the best choice if you want t...</td>\n",
       "      <td>ironhack</td>\n",
       "    </tr>\n",
       "    <tr>\n",
       "      <th>2</th>\n",
       "      <td>270471</td>\n",
       "      <td>michael moyers</td>\n",
       "      <td>False</td>\n",
       "      <td>2020</td>\n",
       "      <td>False</td>\n",
       "      <td>Product Designer</td>\n",
       "      <td>Exceeded my expectations and beyond!</td>\n",
       "      <td>2020-11-16</td>\n",
       "      <td>UX/UI Design Bootcamp</td>\n",
       "      <td>5</td>\n",
       "      <td>5.0</td>\n",
       "      <td>5</td>\n",
       "      <td>5</td>\n",
       "      <td>I could not be more impressed with my experien...</td>\n",
       "      <td>ironhack</td>\n",
       "    </tr>\n",
       "    <tr>\n",
       "      <th>3</th>\n",
       "      <td>270296</td>\n",
       "      <td>Anonymous</td>\n",
       "      <td>True</td>\n",
       "      <td>2020</td>\n",
       "      <td>False</td>\n",
       "      <td>not available</td>\n",
       "      <td>Very intense and high reward bootcamp</td>\n",
       "      <td>2020-11-13</td>\n",
       "      <td>Web Development Bootcamp</td>\n",
       "      <td>4.7</td>\n",
       "      <td>5.0</td>\n",
       "      <td>4</td>\n",
       "      <td>5</td>\n",
       "      <td>Ironhack bootcamp is a unique experience where...</td>\n",
       "      <td>ironhack</td>\n",
       "    </tr>\n",
       "    <tr>\n",
       "      <th>4</th>\n",
       "      <td>270295</td>\n",
       "      <td>VALENTINE CONQ</td>\n",
       "      <td>False</td>\n",
       "      <td>2020</td>\n",
       "      <td>False</td>\n",
       "      <td>Product Designer</td>\n",
       "      <td>Great bootcamp, amazing humans.</td>\n",
       "      <td>2020-11-13</td>\n",
       "      <td>UX/UI Design Bootcamp</td>\n",
       "      <td>5</td>\n",
       "      <td>5.0</td>\n",
       "      <td>5</td>\n",
       "      <td>5</td>\n",
       "      <td>I attended the UX/UI bootcamp at Ironhack and ...</td>\n",
       "      <td>ironhack</td>\n",
       "    </tr>\n",
       "  </tbody>\n",
       "</table>\n",
       "</div>"
      ],
      "text/plain": [
       "       id            name  anonymous graduatingYear isAlumni  \\\n",
       "0  270846       Anonymous       True           2020    False   \n",
       "1  270766     salim ameur      False           2020    False   \n",
       "2  270471  michael moyers      False           2020    False   \n",
       "3  270296       Anonymous       True           2020    False   \n",
       "4  270295  VALENTINE CONQ      False           2020    False   \n",
       "\n",
       "             jobTitle                                tagline  queryDate  \\\n",
       "0          unemployed                           Disappointed 2020-11-25   \n",
       "1  frontend developer              \"An amazing experience !\" 2020-11-23   \n",
       "2    Product Designer   Exceeded my expectations and beyond! 2020-11-16   \n",
       "3       not available  Very intense and high reward bootcamp 2020-11-13   \n",
       "4    Product Designer        Great bootcamp, amazing humans. 2020-11-13   \n",
       "\n",
       "                    program overallScore overall curriculum jobSupport  \\\n",
       "0  Web Development Bootcamp          2.7     3.0          4          1   \n",
       "1  Web Development Bootcamp            5     5.0          5          5   \n",
       "2     UX/UI Design Bootcamp            5     5.0          5          5   \n",
       "3  Web Development Bootcamp          4.7     5.0          4          5   \n",
       "4     UX/UI Design Bootcamp            5     5.0          5          5   \n",
       "\n",
       "                                              Review    school  \n",
       "0  I participated to the remote Web Dev bootcamp....  ironhack  \n",
       "1  IRONHACK will be the best choice if you want t...  ironhack  \n",
       "2  I could not be more impressed with my experien...  ironhack  \n",
       "3  Ironhack bootcamp is a unique experience where...  ironhack  \n",
       "4  I attended the UX/UI bootcamp at Ironhack and ...  ironhack  "
      ]
     },
     "execution_count": 24,
     "metadata": {},
     "output_type": "execute_result"
    }
   ],
   "source": [
    "comments.head()"
   ]
  },
  {
   "cell_type": "code",
   "execution_count": 25,
   "metadata": {
    "ExecuteTime": {
     "end_time": "2020-11-29T09:23:16.622174Z",
     "start_time": "2020-11-29T09:23:16.615057Z"
    }
   },
   "outputs": [
    {
     "data": {
      "text/html": [
       "<div>\n",
       "<style scoped>\n",
       "    .dataframe tbody tr th:only-of-type {\n",
       "        vertical-align: middle;\n",
       "    }\n",
       "\n",
       "    .dataframe tbody tr th {\n",
       "        vertical-align: top;\n",
       "    }\n",
       "\n",
       "    .dataframe thead th {\n",
       "        text-align: right;\n",
       "    }\n",
       "</style>\n",
       "<table border=\"1\" class=\"dataframe\">\n",
       "  <thead>\n",
       "    <tr style=\"text-align: right;\">\n",
       "      <th></th>\n",
       "      <th>name</th>\n",
       "      <th>keyword</th>\n",
       "      <th>description</th>\n",
       "      <th>school</th>\n",
       "      <th>school_id</th>\n",
       "    </tr>\n",
       "  </thead>\n",
       "  <tbody>\n",
       "    <tr>\n",
       "      <th>0</th>\n",
       "      <td>Available Online</td>\n",
       "      <td>available_online</td>\n",
       "      <td>School offers fully online courses</td>\n",
       "      <td>ironhack</td>\n",
       "      <td>10828</td>\n",
       "    </tr>\n",
       "    <tr>\n",
       "      <th>1</th>\n",
       "      <td>Verified Outcomes</td>\n",
       "      <td>verified_outcomes</td>\n",
       "      <td>School publishes a third-party verified outcom...</td>\n",
       "      <td>ironhack</td>\n",
       "      <td>10828</td>\n",
       "    </tr>\n",
       "    <tr>\n",
       "      <th>2</th>\n",
       "      <td>Flexible Classes</td>\n",
       "      <td>flexible_classes</td>\n",
       "      <td>School offers part-time and evening classes</td>\n",
       "      <td>ironhack</td>\n",
       "      <td>10828</td>\n",
       "    </tr>\n",
       "    <tr>\n",
       "      <th>3</th>\n",
       "      <td>Available Online</td>\n",
       "      <td>available_online</td>\n",
       "      <td>School offers fully online courses</td>\n",
       "      <td>app-academy</td>\n",
       "      <td>10525</td>\n",
       "    </tr>\n",
       "    <tr>\n",
       "      <th>4</th>\n",
       "      <td>Flexible Classes</td>\n",
       "      <td>flexible_classes</td>\n",
       "      <td>School offers part-time and evening classes</td>\n",
       "      <td>app-academy</td>\n",
       "      <td>10525</td>\n",
       "    </tr>\n",
       "  </tbody>\n",
       "</table>\n",
       "</div>"
      ],
      "text/plain": [
       "                name            keyword  \\\n",
       "0   Available Online   available_online   \n",
       "1  Verified Outcomes  verified_outcomes   \n",
       "2   Flexible Classes   flexible_classes   \n",
       "3   Available Online   available_online   \n",
       "4   Flexible Classes   flexible_classes   \n",
       "\n",
       "                                         description       school  school_id  \n",
       "0                 School offers fully online courses     ironhack      10828  \n",
       "1  School publishes a third-party verified outcom...     ironhack      10828  \n",
       "2        School offers part-time and evening classes     ironhack      10828  \n",
       "3                 School offers fully online courses  app-academy      10525  \n",
       "4        School offers part-time and evening classes  app-academy      10525  "
      ]
     },
     "execution_count": 25,
     "metadata": {},
     "output_type": "execute_result"
    }
   ],
   "source": [
    "badges.head()"
   ]
  },
  {
   "cell_type": "code",
   "execution_count": 26,
   "metadata": {
    "ExecuteTime": {
     "end_time": "2020-11-29T09:23:17.036617Z",
     "start_time": "2020-11-29T09:23:17.026662Z"
    }
   },
   "outputs": [
    {
     "data": {
      "text/html": [
       "<div>\n",
       "<style scoped>\n",
       "    .dataframe tbody tr th:only-of-type {\n",
       "        vertical-align: middle;\n",
       "    }\n",
       "\n",
       "    .dataframe tbody tr th {\n",
       "        vertical-align: top;\n",
       "    }\n",
       "\n",
       "    .dataframe thead th {\n",
       "        text-align: right;\n",
       "    }\n",
       "</style>\n",
       "<table border=\"1\" class=\"dataframe\">\n",
       "  <thead>\n",
       "    <tr style=\"text-align: right;\">\n",
       "      <th></th>\n",
       "      <th>website</th>\n",
       "      <th>description</th>\n",
       "      <th>LogoUrl</th>\n",
       "      <th>school</th>\n",
       "      <th>school_id</th>\n",
       "    </tr>\n",
       "  </thead>\n",
       "  <tbody>\n",
       "    <tr>\n",
       "      <th>0</th>\n",
       "      <td>www.ironhack.com/en</td>\n",
       "      <td>Ironhack is a global tech school with 9 campus...</td>\n",
       "      <td>https://d92mrp7hetgfk.cloudfront.net/images/si...</td>\n",
       "      <td>ironhack</td>\n",
       "      <td>10828</td>\n",
       "    </tr>\n",
       "    <tr>\n",
       "      <th>1</th>\n",
       "      <td>appacademy.io</td>\n",
       "      <td>App Academy is a coding school that offers onl...</td>\n",
       "      <td>https://d92mrp7hetgfk.cloudfront.net/images/si...</td>\n",
       "      <td>app-academy</td>\n",
       "      <td>10525</td>\n",
       "    </tr>\n",
       "    <tr>\n",
       "      <th>2</th>\n",
       "      <td>www.springboard.com/?utm_source=switchup&amp;utm_m...</td>\n",
       "      <td>Springboard is an online school for learning 2...</td>\n",
       "      <td>https://d92mrp7hetgfk.cloudfront.net/images/si...</td>\n",
       "      <td>springboard</td>\n",
       "      <td>11035</td>\n",
       "    </tr>\n",
       "    <tr>\n",
       "      <th>3</th>\n",
       "      <td>www.lewagon.com</td>\n",
       "      <td>Le Wagon runs immersive coding bootcamps in 40...</td>\n",
       "      <td>https://d92mrp7hetgfk.cloudfront.net/images/si...</td>\n",
       "      <td>le-wagon</td>\n",
       "      <td>10868</td>\n",
       "    </tr>\n",
       "    <tr>\n",
       "      <th>4</th>\n",
       "      <td>generalassemb.ly/?utm_medium=affiliate-lead-gl...</td>\n",
       "      <td>General Assembly is creating a global communit...</td>\n",
       "      <td>https://d92mrp7hetgfk.cloudfront.net/images/si...</td>\n",
       "      <td>general-assembly</td>\n",
       "      <td>10761</td>\n",
       "    </tr>\n",
       "  </tbody>\n",
       "</table>\n",
       "</div>"
      ],
      "text/plain": [
       "                                             website  \\\n",
       "0                                www.ironhack.com/en   \n",
       "1                                      appacademy.io   \n",
       "2  www.springboard.com/?utm_source=switchup&utm_m...   \n",
       "3                                    www.lewagon.com   \n",
       "4  generalassemb.ly/?utm_medium=affiliate-lead-gl...   \n",
       "\n",
       "                                         description  \\\n",
       "0  Ironhack is a global tech school with 9 campus...   \n",
       "1  App Academy is a coding school that offers onl...   \n",
       "2  Springboard is an online school for learning 2...   \n",
       "3  Le Wagon runs immersive coding bootcamps in 40...   \n",
       "4  General Assembly is creating a global communit...   \n",
       "\n",
       "                                             LogoUrl            school  \\\n",
       "0  https://d92mrp7hetgfk.cloudfront.net/images/si...          ironhack   \n",
       "1  https://d92mrp7hetgfk.cloudfront.net/images/si...       app-academy   \n",
       "2  https://d92mrp7hetgfk.cloudfront.net/images/si...       springboard   \n",
       "3  https://d92mrp7hetgfk.cloudfront.net/images/si...          le-wagon   \n",
       "4  https://d92mrp7hetgfk.cloudfront.net/images/si...  general-assembly   \n",
       "\n",
       "   school_id  \n",
       "0      10828  \n",
       "1      10525  \n",
       "2      11035  \n",
       "3      10868  \n",
       "4      10761  "
      ]
     },
     "execution_count": 26,
     "metadata": {},
     "output_type": "execute_result"
    }
   ],
   "source": [
    "schools.head()"
   ]
  },
  {
   "cell_type": "code",
   "execution_count": 27,
   "metadata": {
    "ExecuteTime": {
     "end_time": "2020-11-29T09:23:17.432566Z",
     "start_time": "2020-11-29T09:23:17.417307Z"
    }
   },
   "outputs": [
    {
     "data": {
      "text/html": [
       "<div>\n",
       "<style scoped>\n",
       "    .dataframe tbody tr th:only-of-type {\n",
       "        vertical-align: middle;\n",
       "    }\n",
       "\n",
       "    .dataframe tbody tr th {\n",
       "        vertical-align: top;\n",
       "    }\n",
       "\n",
       "    .dataframe thead th {\n",
       "        text-align: right;\n",
       "    }\n",
       "</style>\n",
       "<table border=\"1\" class=\"dataframe\">\n",
       "  <thead>\n",
       "    <tr style=\"text-align: right;\">\n",
       "      <th></th>\n",
       "      <th>courses</th>\n",
       "      <th>school</th>\n",
       "      <th>school_id</th>\n",
       "    </tr>\n",
       "  </thead>\n",
       "  <tbody>\n",
       "    <tr>\n",
       "      <th>0</th>\n",
       "      <td>Data Analytics Bootcamp</td>\n",
       "      <td>ironhack</td>\n",
       "      <td>10828</td>\n",
       "    </tr>\n",
       "    <tr>\n",
       "      <th>1</th>\n",
       "      <td>Data Analytics Part-Time</td>\n",
       "      <td>ironhack</td>\n",
       "      <td>10828</td>\n",
       "    </tr>\n",
       "    <tr>\n",
       "      <th>2</th>\n",
       "      <td>UX/UI Design Bootcamp</td>\n",
       "      <td>ironhack</td>\n",
       "      <td>10828</td>\n",
       "    </tr>\n",
       "    <tr>\n",
       "      <th>3</th>\n",
       "      <td>UX/UI Design Part-Time</td>\n",
       "      <td>ironhack</td>\n",
       "      <td>10828</td>\n",
       "    </tr>\n",
       "    <tr>\n",
       "      <th>4</th>\n",
       "      <td>Web Development Bootcamp</td>\n",
       "      <td>ironhack</td>\n",
       "      <td>10828</td>\n",
       "    </tr>\n",
       "  </tbody>\n",
       "</table>\n",
       "</div>"
      ],
      "text/plain": [
       "                    courses    school  school_id\n",
       "0   Data Analytics Bootcamp  ironhack      10828\n",
       "1  Data Analytics Part-Time  ironhack      10828\n",
       "2     UX/UI Design Bootcamp  ironhack      10828\n",
       "3    UX/UI Design Part-Time  ironhack      10828\n",
       "4  Web Development Bootcamp  ironhack      10828"
      ]
     },
     "execution_count": 27,
     "metadata": {},
     "output_type": "execute_result"
    }
   ],
   "source": [
    "courses.head()"
   ]
  },
  {
   "cell_type": "markdown",
   "metadata": {},
   "source": [
    "# Questions\n",
    "\n",
    "---\n",
    "\n",
    "\n",
    "* which programs are most commented?\n",
    "* which area's are le-wagon operating that IronHack aren't\n",
    "* search for words in Review column"
   ]
  },
  {
   "cell_type": "markdown",
   "metadata": {},
   "source": [
    "### Top 10 most commented programs"
   ]
  },
  {
   "cell_type": "code",
   "execution_count": 34,
   "metadata": {
    "ExecuteTime": {
     "end_time": "2020-11-29T09:26:37.103779Z",
     "start_time": "2020-11-29T09:26:37.093829Z"
    }
   },
   "outputs": [
    {
     "data": {
      "text/html": [
       "<div>\n",
       "<style scoped>\n",
       "    .dataframe tbody tr th:only-of-type {\n",
       "        vertical-align: middle;\n",
       "    }\n",
       "\n",
       "    .dataframe tbody tr th {\n",
       "        vertical-align: top;\n",
       "    }\n",
       "\n",
       "    .dataframe thead th {\n",
       "        text-align: right;\n",
       "    }\n",
       "</style>\n",
       "<table border=\"1\" class=\"dataframe\">\n",
       "  <thead>\n",
       "    <tr style=\"text-align: right;\">\n",
       "      <th></th>\n",
       "      <th>Review</th>\n",
       "    </tr>\n",
       "    <tr>\n",
       "      <th>program</th>\n",
       "      <th></th>\n",
       "    </tr>\n",
       "  </thead>\n",
       "  <tbody>\n",
       "    <tr>\n",
       "      <th>not available</th>\n",
       "      <td>1068</td>\n",
       "    </tr>\n",
       "    <tr>\n",
       "      <th>FullStack program - 35+ locations</th>\n",
       "      <td>1038</td>\n",
       "    </tr>\n",
       "    <tr>\n",
       "      <th>Software Engineer Track: In-Person</th>\n",
       "      <td>731</td>\n",
       "    </tr>\n",
       "    <tr>\n",
       "      <th></th>\n",
       "      <td>633</td>\n",
       "    </tr>\n",
       "    <tr>\n",
       "      <th>Full-time Web Development Bootcamp</th>\n",
       "      <td>362</td>\n",
       "    </tr>\n",
       "    <tr>\n",
       "      <th>DATA SCIENCE</th>\n",
       "      <td>356</td>\n",
       "    </tr>\n",
       "    <tr>\n",
       "      <th>FullStack program</th>\n",
       "      <td>307</td>\n",
       "    </tr>\n",
       "    <tr>\n",
       "      <th>Data Science</th>\n",
       "      <td>262</td>\n",
       "    </tr>\n",
       "    <tr>\n",
       "      <th>Web Development Course - Full-Time</th>\n",
       "      <td>211</td>\n",
       "    </tr>\n",
       "    <tr>\n",
       "      <th>Data Science Career Track</th>\n",
       "      <td>202</td>\n",
       "    </tr>\n",
       "  </tbody>\n",
       "</table>\n",
       "</div>"
      ],
      "text/plain": [
       "                                     Review\n",
       "program                                    \n",
       "not available                          1068\n",
       "FullStack program - 35+ locations      1038\n",
       "Software Engineer Track: In-Person      731\n",
       "                                        633\n",
       "Full-time Web Development Bootcamp      362\n",
       "DATA SCIENCE                            356\n",
       "FullStack program                       307\n",
       "Data Science                            262\n",
       "Web Development Course - Full-Time      211\n",
       "Data Science Career Track               202"
      ]
     },
     "execution_count": 34,
     "metadata": {},
     "output_type": "execute_result"
    }
   ],
   "source": [
    "pd.DataFrame(comments.groupby([\"program\"])[\"Review\"].count()).sort_values(by=\"Review\", ascending=False).head(10)"
   ]
  },
  {
   "cell_type": "code",
   "execution_count": 36,
   "metadata": {
    "ExecuteTime": {
     "end_time": "2020-11-29T09:27:47.928727Z",
     "start_time": "2020-11-29T09:27:47.916166Z"
    }
   },
   "outputs": [
    {
     "data": {
      "text/plain": [
       "['ironhack',\n",
       " 'app-academy',\n",
       " 'springboard',\n",
       " 'le-wagon',\n",
       " 'general-assembly',\n",
       " 'hackwagon-academy',\n",
       " 'udacity',\n",
       " 'thinkful',\n",
       " 'nyc-data-science-academy']"
      ]
     },
     "execution_count": 36,
     "metadata": {},
     "output_type": "execute_result"
    }
   ],
   "source": [
    "list(comments[\"school\"].unique())"
   ]
  },
  {
   "cell_type": "code",
   "execution_count": 37,
   "metadata": {
    "ExecuteTime": {
     "end_time": "2020-11-29T09:28:21.335667Z",
     "start_time": "2020-11-29T09:28:21.322125Z"
    }
   },
   "outputs": [
    {
     "data": {
      "text/html": [
       "<div>\n",
       "<style scoped>\n",
       "    .dataframe tbody tr th:only-of-type {\n",
       "        vertical-align: middle;\n",
       "    }\n",
       "\n",
       "    .dataframe tbody tr th {\n",
       "        vertical-align: top;\n",
       "    }\n",
       "\n",
       "    .dataframe thead th {\n",
       "        text-align: right;\n",
       "    }\n",
       "</style>\n",
       "<table border=\"1\" class=\"dataframe\">\n",
       "  <thead>\n",
       "    <tr style=\"text-align: right;\">\n",
       "      <th></th>\n",
       "      <th>id</th>\n",
       "      <th>description</th>\n",
       "      <th>country.id</th>\n",
       "      <th>country.name</th>\n",
       "      <th>country.abbrev</th>\n",
       "      <th>city.id</th>\n",
       "      <th>city.name</th>\n",
       "      <th>city.keyword</th>\n",
       "      <th>state.id</th>\n",
       "      <th>state.name</th>\n",
       "      <th>state.abbrev</th>\n",
       "      <th>state.keyword</th>\n",
       "      <th>school</th>\n",
       "      <th>school_id</th>\n",
       "    </tr>\n",
       "  </thead>\n",
       "  <tbody>\n",
       "    <tr>\n",
       "      <th>0</th>\n",
       "      <td>15901</td>\n",
       "      <td>Berlin, Germany</td>\n",
       "      <td>57</td>\n",
       "      <td>Germany</td>\n",
       "      <td>DE</td>\n",
       "      <td>31156</td>\n",
       "      <td>Berlin</td>\n",
       "      <td>berlin</td>\n",
       "      <td>not available</td>\n",
       "      <td>not available</td>\n",
       "      <td>not available</td>\n",
       "      <td>not available</td>\n",
       "      <td>ironhack</td>\n",
       "      <td>10828</td>\n",
       "    </tr>\n",
       "    <tr>\n",
       "      <th>1</th>\n",
       "      <td>16022</td>\n",
       "      <td>Mexico City, Mexico</td>\n",
       "      <td>29</td>\n",
       "      <td>Mexico</td>\n",
       "      <td>MX</td>\n",
       "      <td>31175</td>\n",
       "      <td>Mexico City</td>\n",
       "      <td>mexico-city</td>\n",
       "      <td>not available</td>\n",
       "      <td>not available</td>\n",
       "      <td>not available</td>\n",
       "      <td>not available</td>\n",
       "      <td>ironhack</td>\n",
       "      <td>10828</td>\n",
       "    </tr>\n",
       "    <tr>\n",
       "      <th>2</th>\n",
       "      <td>16086</td>\n",
       "      <td>Amsterdam, Netherlands</td>\n",
       "      <td>59</td>\n",
       "      <td>Netherlands</td>\n",
       "      <td>NL</td>\n",
       "      <td>31168</td>\n",
       "      <td>Amsterdam</td>\n",
       "      <td>amsterdam</td>\n",
       "      <td>not available</td>\n",
       "      <td>not available</td>\n",
       "      <td>not available</td>\n",
       "      <td>not available</td>\n",
       "      <td>ironhack</td>\n",
       "      <td>10828</td>\n",
       "    </tr>\n",
       "    <tr>\n",
       "      <th>3</th>\n",
       "      <td>16088</td>\n",
       "      <td>Sao Paulo, Brazil</td>\n",
       "      <td>42</td>\n",
       "      <td>Brazil</td>\n",
       "      <td>BR</td>\n",
       "      <td>31121</td>\n",
       "      <td>Sao Paulo</td>\n",
       "      <td>sao-paulo</td>\n",
       "      <td>not available</td>\n",
       "      <td>not available</td>\n",
       "      <td>not available</td>\n",
       "      <td>not available</td>\n",
       "      <td>ironhack</td>\n",
       "      <td>10828</td>\n",
       "    </tr>\n",
       "    <tr>\n",
       "      <th>4</th>\n",
       "      <td>16109</td>\n",
       "      <td>Paris, France</td>\n",
       "      <td>38</td>\n",
       "      <td>France</td>\n",
       "      <td>FR</td>\n",
       "      <td>31136</td>\n",
       "      <td>Paris</td>\n",
       "      <td>paris</td>\n",
       "      <td>not available</td>\n",
       "      <td>not available</td>\n",
       "      <td>not available</td>\n",
       "      <td>not available</td>\n",
       "      <td>ironhack</td>\n",
       "      <td>10828</td>\n",
       "    </tr>\n",
       "  </tbody>\n",
       "</table>\n",
       "</div>"
      ],
      "text/plain": [
       "      id             description country.id country.name country.abbrev  \\\n",
       "0  15901         Berlin, Germany         57      Germany             DE   \n",
       "1  16022     Mexico City, Mexico         29       Mexico             MX   \n",
       "2  16086  Amsterdam, Netherlands         59  Netherlands             NL   \n",
       "3  16088       Sao Paulo, Brazil         42       Brazil             BR   \n",
       "4  16109           Paris, France         38       France             FR   \n",
       "\n",
       "  city.id    city.name city.keyword       state.id     state.name  \\\n",
       "0   31156       Berlin       berlin  not available  not available   \n",
       "1   31175  Mexico City  mexico-city  not available  not available   \n",
       "2   31168    Amsterdam    amsterdam  not available  not available   \n",
       "3   31121    Sao Paulo    sao-paulo  not available  not available   \n",
       "4   31136        Paris        paris  not available  not available   \n",
       "\n",
       "    state.abbrev  state.keyword    school  school_id  \n",
       "0  not available  not available  ironhack      10828  \n",
       "1  not available  not available  ironhack      10828  \n",
       "2  not available  not available  ironhack      10828  \n",
       "3  not available  not available  ironhack      10828  \n",
       "4  not available  not available  ironhack      10828  "
      ]
     },
     "execution_count": 37,
     "metadata": {},
     "output_type": "execute_result"
    }
   ],
   "source": [
    "locations.head()"
   ]
  },
  {
   "cell_type": "code",
   "execution_count": 39,
   "metadata": {
    "ExecuteTime": {
     "end_time": "2020-11-29T09:29:57.654813Z",
     "start_time": "2020-11-29T09:29:57.648618Z"
    },
    "scrolled": true
   },
   "outputs": [],
   "source": [
    "le_wagon = locations[locations[\"school\"] == \"le-wagon\"]"
   ]
  },
  {
   "cell_type": "code",
   "execution_count": 40,
   "metadata": {
    "ExecuteTime": {
     "end_time": "2020-11-29T09:30:34.671241Z",
     "start_time": "2020-11-29T09:30:34.668163Z"
    },
    "scrolled": true
   },
   "outputs": [],
   "source": [
    "iron_hack = locations[locations[\"school\"] == \"ironhack\"]"
   ]
  },
  {
   "cell_type": "code",
   "execution_count": null,
   "metadata": {},
   "outputs": [],
   "source": []
  },
  {
   "cell_type": "code",
   "execution_count": null,
   "metadata": {},
   "outputs": [],
   "source": []
  },
  {
   "cell_type": "code",
   "execution_count": 108,
   "metadata": {
    "ExecuteTime": {
     "end_time": "2020-11-29T09:53:16.808245Z",
     "start_time": "2020-11-29T09:53:16.793049Z"
    }
   },
   "outputs": [],
   "source": [
    "iron_hack_mapping = dict(pd.DataFrame(iron_hack.groupby([\"country.name\", \"city.name\"])[\"school\"]).drop(columns=1)[0].apply(pd.Series).values)"
   ]
  },
  {
   "cell_type": "code",
   "execution_count": 109,
   "metadata": {
    "ExecuteTime": {
     "end_time": "2020-11-29T09:53:24.016041Z",
     "start_time": "2020-11-29T09:53:23.985865Z"
    },
    "scrolled": true
   },
   "outputs": [],
   "source": [
    "le_wagon_mapping = dict(pd.DataFrame(le_wagon.groupby([\"country.name\", \"city.name\"])[\"school\"])[0].apply(pd.Series).values)"
   ]
  },
  {
   "cell_type": "code",
   "execution_count": null,
   "metadata": {},
   "outputs": [],
   "source": []
  },
  {
   "cell_type": "code",
   "execution_count": 115,
   "metadata": {
    "ExecuteTime": {
     "end_time": "2020-11-29T09:58:04.942268Z",
     "start_time": "2020-11-29T09:58:04.932837Z"
    }
   },
   "outputs": [
    {
     "data": {
      "text/plain": [
       "{'Norway': 'Oslo',\n",
       " 'Japan': 'Tokyo',\n",
       " 'Chile': 'Santiago',\n",
       " 'Canada': 'Toronto',\n",
       " 'Argentina': 'Buenos Aires',\n",
       " 'South Korea': 'Seoul',\n",
       " 'Turkey': 'Istanbul',\n",
       " 'Morocco': 'Casablanca',\n",
       " 'Singapore': 'Singapore',\n",
       " 'Belgium': 'Brussels',\n",
       " 'Denmark': 'Copenhagen',\n",
       " 'United Arab Emirates': 'Dubai',\n",
       " 'Indonesia': 'Bali',\n",
       " 'Australia': 'Melbourne',\n",
       " 'Switzerland': 'Lausanne',\n",
       " 'England': 'London',\n",
       " 'Italy': 'Rome',\n",
       " 'Sweden': 'Stockholm',\n",
       " 'China': 'Shenzhen',\n",
       " 'Israel': 'Tel Aviv'}"
      ]
     },
     "execution_count": 115,
     "metadata": {},
     "output_type": "execute_result"
    }
   ],
   "source": [
    "# There are just unique countris and cities in which Iron Hack does not operate.\n",
    "\n",
    "{k : le_wagon_mapping[k] for k in set(le_wagon_mapping) - set(iron_hack_mapping)}"
   ]
  },
  {
   "cell_type": "markdown",
   "metadata": {},
   "source": [
    "### These are countries in which Iron Hack does not operate"
   ]
  },
  {
   "cell_type": "code",
   "execution_count": 45,
   "metadata": {
    "ExecuteTime": {
     "end_time": "2020-11-29T09:32:48.566988Z",
     "start_time": "2020-11-29T09:32:48.556640Z"
    }
   },
   "outputs": [
    {
     "data": {
      "text/plain": [
       "{'Argentina',\n",
       " 'Australia',\n",
       " 'Belgium',\n",
       " 'Canada',\n",
       " 'Chile',\n",
       " 'China',\n",
       " 'Denmark',\n",
       " 'England',\n",
       " 'Indonesia',\n",
       " 'Israel',\n",
       " 'Italy',\n",
       " 'Japan',\n",
       " 'Morocco',\n",
       " 'Norway',\n",
       " 'Singapore',\n",
       " 'South Korea',\n",
       " 'Sweden',\n",
       " 'Switzerland',\n",
       " 'Turkey',\n",
       " 'United Arab Emirates'}"
      ]
     },
     "execution_count": 45,
     "metadata": {},
     "output_type": "execute_result"
    }
   ],
   "source": [
    "set(le_wagon[\"country.name\"].unique()) - set(iron_hack[\"country.name\"].unique())"
   ]
  },
  {
   "cell_type": "markdown",
   "metadata": {},
   "source": [
    "### These are cities in which Iron Hack does not operate"
   ]
  },
  {
   "cell_type": "code",
   "execution_count": 46,
   "metadata": {
    "ExecuteTime": {
     "end_time": "2020-11-29T09:34:15.128576Z",
     "start_time": "2020-11-29T09:34:15.123345Z"
    }
   },
   "outputs": [
    {
     "data": {
      "text/plain": [
       "{'Bali',\n",
       " 'Belo Horizonte',\n",
       " 'Bordeaux',\n",
       " 'Brussels',\n",
       " 'Buenos Aires',\n",
       " 'Casablanca',\n",
       " 'Chengdu',\n",
       " 'Copenhagen',\n",
       " 'Dubai',\n",
       " 'Istanbul',\n",
       " 'Kyoto',\n",
       " 'Lausanne',\n",
       " 'Lille',\n",
       " 'London',\n",
       " 'Lyon',\n",
       " 'Marseille',\n",
       " 'Melbourne',\n",
       " 'Milan',\n",
       " 'Montreal',\n",
       " 'Munich',\n",
       " 'Nantes',\n",
       " 'Oslo',\n",
       " 'Rennes',\n",
       " 'Rio de Janeiro ',\n",
       " 'Rome',\n",
       " 'Santiago',\n",
       " 'Seoul',\n",
       " 'Shanghai',\n",
       " 'Shenzhen',\n",
       " 'Singapore',\n",
       " 'Stockholm',\n",
       " 'Tel Aviv',\n",
       " 'Tokyo',\n",
       " 'Toronto'}"
      ]
     },
     "execution_count": 46,
     "metadata": {},
     "output_type": "execute_result"
    }
   ],
   "source": [
    "set(le_wagon[\"city.name\"].unique()) - set(iron_hack[\"city.name\"].unique())"
   ]
  },
  {
   "cell_type": "code",
   "execution_count": null,
   "metadata": {},
   "outputs": [],
   "source": []
  },
  {
   "cell_type": "markdown",
   "metadata": {},
   "source": [
    "# Algorithm to find keywords in Review colum\n",
    "\n",
    "---\n",
    "\n",
    "1) Define keywords you want to find in Review  column. These can be \"Fine, worst, good - it depends on your imagination and preference\"\n",
    "\n",
    "2) use Pandas .str.contains(keyword) to find if your keyword is in each row of Review column\n",
    "\n",
    "3) If your keyword is inside Review column (here I mean each row) then mark this row as 1, otherwise mark it as 0\n",
    "\n",
    "4) Make some analysis on the new column you created in step 3"
   ]
  },
  {
   "cell_type": "code",
   "execution_count": 119,
   "metadata": {
    "ExecuteTime": {
     "end_time": "2020-11-29T10:04:11.382549Z",
     "start_time": "2020-11-29T10:04:11.380365Z"
    }
   },
   "outputs": [],
   "source": [
    "KEY_WORD = \"good\""
   ]
  },
  {
   "cell_type": "code",
   "execution_count": 121,
   "metadata": {
    "ExecuteTime": {
     "end_time": "2020-11-29T10:04:31.895629Z",
     "start_time": "2020-11-29T10:04:31.871827Z"
    }
   },
   "outputs": [
    {
     "data": {
      "text/plain": [
       "0        True\n",
       "1        True\n",
       "2        True\n",
       "3        True\n",
       "4       False\n",
       "        ...  \n",
       "7915    False\n",
       "7916    False\n",
       "7917    False\n",
       "7918    False\n",
       "7919    False\n",
       "Name: Review, Length: 7920, dtype: bool"
      ]
     },
     "execution_count": 121,
     "metadata": {},
     "output_type": "execute_result"
    }
   ],
   "source": [
    "comments[\"Review\"].str.contains(KEY_WORD)"
   ]
  },
  {
   "cell_type": "code",
   "execution_count": 125,
   "metadata": {
    "ExecuteTime": {
     "end_time": "2020-11-29T10:05:36.621389Z",
     "start_time": "2020-11-29T10:05:36.594680Z"
    }
   },
   "outputs": [],
   "source": [
    "comments[\"contains_my_keyword\"] = np.where(comments[\"Review\"].str.contains(KEY_WORD), 1, 0)"
   ]
  },
  {
   "cell_type": "code",
   "execution_count": 127,
   "metadata": {
    "ExecuteTime": {
     "end_time": "2020-11-29T10:05:49.679502Z",
     "start_time": "2020-11-29T10:05:49.656395Z"
    }
   },
   "outputs": [
    {
     "data": {
      "text/html": [
       "<div>\n",
       "<style scoped>\n",
       "    .dataframe tbody tr th:only-of-type {\n",
       "        vertical-align: middle;\n",
       "    }\n",
       "\n",
       "    .dataframe tbody tr th {\n",
       "        vertical-align: top;\n",
       "    }\n",
       "\n",
       "    .dataframe thead th {\n",
       "        text-align: right;\n",
       "    }\n",
       "</style>\n",
       "<table border=\"1\" class=\"dataframe\">\n",
       "  <thead>\n",
       "    <tr style=\"text-align: right;\">\n",
       "      <th></th>\n",
       "      <th>id</th>\n",
       "      <th>name</th>\n",
       "      <th>anonymous</th>\n",
       "      <th>graduatingYear</th>\n",
       "      <th>isAlumni</th>\n",
       "      <th>jobTitle</th>\n",
       "      <th>tagline</th>\n",
       "      <th>queryDate</th>\n",
       "      <th>program</th>\n",
       "      <th>overallScore</th>\n",
       "      <th>overall</th>\n",
       "      <th>curriculum</th>\n",
       "      <th>jobSupport</th>\n",
       "      <th>Review</th>\n",
       "      <th>school</th>\n",
       "      <th>contains_my_keyword</th>\n",
       "    </tr>\n",
       "  </thead>\n",
       "  <tbody>\n",
       "    <tr>\n",
       "      <th>0</th>\n",
       "      <td>270846</td>\n",
       "      <td>Anonymous</td>\n",
       "      <td>True</td>\n",
       "      <td>2020</td>\n",
       "      <td>False</td>\n",
       "      <td>unemployed</td>\n",
       "      <td>Disappointed</td>\n",
       "      <td>2020-11-25</td>\n",
       "      <td>Web Development Bootcamp</td>\n",
       "      <td>2.7</td>\n",
       "      <td>3.0</td>\n",
       "      <td>4</td>\n",
       "      <td>1</td>\n",
       "      <td>I participated to the remote Web Dev bootcamp....</td>\n",
       "      <td>ironhack</td>\n",
       "      <td>1</td>\n",
       "    </tr>\n",
       "    <tr>\n",
       "      <th>1</th>\n",
       "      <td>270766</td>\n",
       "      <td>salim ameur</td>\n",
       "      <td>False</td>\n",
       "      <td>2020</td>\n",
       "      <td>False</td>\n",
       "      <td>frontend developer</td>\n",
       "      <td>\"An amazing experience !\"</td>\n",
       "      <td>2020-11-23</td>\n",
       "      <td>Web Development Bootcamp</td>\n",
       "      <td>5</td>\n",
       "      <td>5.0</td>\n",
       "      <td>5</td>\n",
       "      <td>5</td>\n",
       "      <td>IRONHACK will be the best choice if you want t...</td>\n",
       "      <td>ironhack</td>\n",
       "      <td>1</td>\n",
       "    </tr>\n",
       "    <tr>\n",
       "      <th>2</th>\n",
       "      <td>270471</td>\n",
       "      <td>michael moyers</td>\n",
       "      <td>False</td>\n",
       "      <td>2020</td>\n",
       "      <td>False</td>\n",
       "      <td>Product Designer</td>\n",
       "      <td>Exceeded my expectations and beyond!</td>\n",
       "      <td>2020-11-16</td>\n",
       "      <td>UX/UI Design Bootcamp</td>\n",
       "      <td>5</td>\n",
       "      <td>5.0</td>\n",
       "      <td>5</td>\n",
       "      <td>5</td>\n",
       "      <td>I could not be more impressed with my experien...</td>\n",
       "      <td>ironhack</td>\n",
       "      <td>1</td>\n",
       "    </tr>\n",
       "    <tr>\n",
       "      <th>3</th>\n",
       "      <td>270296</td>\n",
       "      <td>Anonymous</td>\n",
       "      <td>True</td>\n",
       "      <td>2020</td>\n",
       "      <td>False</td>\n",
       "      <td>not available</td>\n",
       "      <td>Very intense and high reward bootcamp</td>\n",
       "      <td>2020-11-13</td>\n",
       "      <td>Web Development Bootcamp</td>\n",
       "      <td>4.7</td>\n",
       "      <td>5.0</td>\n",
       "      <td>4</td>\n",
       "      <td>5</td>\n",
       "      <td>Ironhack bootcamp is a unique experience where...</td>\n",
       "      <td>ironhack</td>\n",
       "      <td>1</td>\n",
       "    </tr>\n",
       "    <tr>\n",
       "      <th>4</th>\n",
       "      <td>270295</td>\n",
       "      <td>VALENTINE CONQ</td>\n",
       "      <td>False</td>\n",
       "      <td>2020</td>\n",
       "      <td>False</td>\n",
       "      <td>Product Designer</td>\n",
       "      <td>Great bootcamp, amazing humans.</td>\n",
       "      <td>2020-11-13</td>\n",
       "      <td>UX/UI Design Bootcamp</td>\n",
       "      <td>5</td>\n",
       "      <td>5.0</td>\n",
       "      <td>5</td>\n",
       "      <td>5</td>\n",
       "      <td>I attended the UX/UI bootcamp at Ironhack and ...</td>\n",
       "      <td>ironhack</td>\n",
       "      <td>0</td>\n",
       "    </tr>\n",
       "  </tbody>\n",
       "</table>\n",
       "</div>"
      ],
      "text/plain": [
       "       id            name  anonymous graduatingYear isAlumni  \\\n",
       "0  270846       Anonymous       True           2020    False   \n",
       "1  270766     salim ameur      False           2020    False   \n",
       "2  270471  michael moyers      False           2020    False   \n",
       "3  270296       Anonymous       True           2020    False   \n",
       "4  270295  VALENTINE CONQ      False           2020    False   \n",
       "\n",
       "             jobTitle                                tagline  queryDate  \\\n",
       "0          unemployed                           Disappointed 2020-11-25   \n",
       "1  frontend developer              \"An amazing experience !\" 2020-11-23   \n",
       "2    Product Designer   Exceeded my expectations and beyond! 2020-11-16   \n",
       "3       not available  Very intense and high reward bootcamp 2020-11-13   \n",
       "4    Product Designer        Great bootcamp, amazing humans. 2020-11-13   \n",
       "\n",
       "                    program overallScore overall curriculum jobSupport  \\\n",
       "0  Web Development Bootcamp          2.7     3.0          4          1   \n",
       "1  Web Development Bootcamp            5     5.0          5          5   \n",
       "2     UX/UI Design Bootcamp            5     5.0          5          5   \n",
       "3  Web Development Bootcamp          4.7     5.0          4          5   \n",
       "4     UX/UI Design Bootcamp            5     5.0          5          5   \n",
       "\n",
       "                                              Review    school  \\\n",
       "0  I participated to the remote Web Dev bootcamp....  ironhack   \n",
       "1  IRONHACK will be the best choice if you want t...  ironhack   \n",
       "2  I could not be more impressed with my experien...  ironhack   \n",
       "3  Ironhack bootcamp is a unique experience where...  ironhack   \n",
       "4  I attended the UX/UI bootcamp at Ironhack and ...  ironhack   \n",
       "\n",
       "   contains_my_keyword  \n",
       "0                    1  \n",
       "1                    1  \n",
       "2                    1  \n",
       "3                    1  \n",
       "4                    0  "
      ]
     },
     "execution_count": 127,
     "metadata": {},
     "output_type": "execute_result"
    }
   ],
   "source": [
    "comments.head(5)"
   ]
  },
  {
   "cell_type": "code",
   "execution_count": null,
   "metadata": {},
   "outputs": [],
   "source": [
    "POSITIVE_KEY_WORD = [\"good\", \"fine\", \"excellent\", \"brilliant\"]"
   ]
  },
  {
   "cell_type": "code",
   "execution_count": null,
   "metadata": {},
   "outputs": [],
   "source": [
    "NEGATIVE_KEY_WORDS = [\"bad\", \"worst\"]"
   ]
  },
  {
   "cell_type": "code",
   "execution_count": null,
   "metadata": {},
   "outputs": [],
   "source": []
  },
  {
   "cell_type": "code",
   "execution_count": null,
   "metadata": {},
   "outputs": [],
   "source": []
  },
  {
   "cell_type": "code",
   "execution_count": null,
   "metadata": {},
   "outputs": [],
   "source": []
  }
 ],
 "metadata": {
  "kernelspec": {
   "display_name": "Python 3",
   "language": "python",
   "name": "python3"
  },
  "language_info": {
   "codemirror_mode": {
    "name": "ipython",
    "version": 3
   },
   "file_extension": ".py",
   "mimetype": "text/x-python",
   "name": "python",
   "nbconvert_exporter": "python",
   "pygments_lexer": "ipython3",
   "version": "3.8.3"
  }
 },
 "nbformat": 4,
 "nbformat_minor": 4
}
